{
 "cells": [
  {
   "cell_type": "markdown",
   "id": "4ff1250c-4723-42a0-aa05-c50382e12030",
   "metadata": {},
   "source": [
    "### Exploring GNNs for molecular property prediction"
   ]
  },
  {
   "cell_type": "raw",
   "id": "c987e3d6-2887-4836-807d-5aff857a5b2b",
   "metadata": {
    "jupyter": {
     "outputs_hidden": true
    },
    "tags": []
   },
   "source": [
    "# Install required dependencies\n",
    "# Requires python version 3.7\n",
    "!pip install tensorflow==2.5.0\n",
    "!pip install nfp==0.3.0  # Must be 0.3.0!\n",
    "!mamba install -y -c conda-forge rdkit==2021.03.4 numpy==1.19.5 # Numpy must be < 1.20 for this version of tf\n",
    "!mamba install -c conda-forge scikit-learn"
   ]
  },
  {
   "cell_type": "code",
   "execution_count": 8,
   "id": "93a1e21d-8edc-45ca-898b-c98d3c39f55c",
   "metadata": {
    "tags": []
   },
   "outputs": [
    {
     "name": "stdout",
     "output_type": "stream",
     "text": [
      "2.5.0\n",
      "0.3.0\n"
     ]
    }
   ],
   "source": [
    "from gnn import *\n",
    "import tensorflow as tf\n",
    "import nfp\n",
    "print(tf.__version__)\n",
    "print(nfp.__version__)"
   ]
  },
  {
   "cell_type": "code",
   "execution_count": 13,
   "id": "8f777032-6b31-4428-a6a2-9cf5a82744ef",
   "metadata": {},
   "outputs": [
    {
     "name": "stdout",
     "output_type": "stream",
     "text": [
      "[PhysicalDevice(name='/physical_device:GPU:0', device_type='GPU')]\n",
      "Using GPU 0\n"
     ]
    }
   ],
   "source": [
    "# Check for gpus\n",
    "gpus = tf.config.experimental.list_physical_devices('GPU')\n",
    "print(gpus)\n",
    "if len(gpus) > 0:\n",
    "    tf.config.experimental.set_memory_growth(gpus[0], True)\n",
    "    device = \"/gpu:0\"\n",
    "    print('Using GPU 0')\n",
    "else:\n",
    "    device = \"/cpu:0\"\n",
    "    print('No GPU found, falling back to CPU')\n",
    "    \n",
    "import os\n",
    "os.environ['TF_FORCE_GPU_ALLOW_GROWTH'] = 'true'\n",
    "os.environ['TF_MKL_REUSE_PRIMITIVE_MEMORY'] = '0'"
   ]
  },
  {
   "cell_type": "code",
   "execution_count": 65,
   "id": "6be5ae97-9d0a-4c72-9f9c-aeabadcaa9d1",
   "metadata": {},
   "outputs": [],
   "source": [
    "import numpy as np\n",
    "import pandas as pd\n",
    "from tensorflow.keras import layers\n",
    "from tensorflow.keras.callbacks import ModelCheckpoint\n",
    "import nfp\n",
    "import json \n",
    "import sys\n",
    "from datetime import date"
   ]
  },
  {
   "cell_type": "code",
   "execution_count": 16,
   "id": "cb74b937-2bd4-473e-abee-b4d2dfdb8a67",
   "metadata": {},
   "outputs": [],
   "source": [
    "from sklearn.model_selection import KFold"
   ]
  },
  {
   "cell_type": "code",
   "execution_count": 18,
   "id": "06e26d2e-3b36-4d76-8fa7-b0bf559152d4",
   "metadata": {},
   "outputs": [],
   "source": [
    "random_seed = 42 # Reproducible splits"
   ]
  },
  {
   "cell_type": "markdown",
   "id": "9b8e52ac-65b3-4c30-b686-1a74e3332664",
   "metadata": {},
   "source": [
    "#### Let's run an initial training iteration to see how the model works"
   ]
  },
  {
   "cell_type": "code",
   "execution_count": 39,
   "id": "36b957e7-af4c-453a-be7c-932e28122490",
   "metadata": {},
   "outputs": [
    {
     "data": {
      "text/html": [
       "<div>\n",
       "<style scoped>\n",
       "    .dataframe tbody tr th:only-of-type {\n",
       "        vertical-align: middle;\n",
       "    }\n",
       "\n",
       "    .dataframe tbody tr th {\n",
       "        vertical-align: top;\n",
       "    }\n",
       "\n",
       "    .dataframe thead th {\n",
       "        text-align: right;\n",
       "    }\n",
       "</style>\n",
       "<table border=\"1\" class=\"dataframe\">\n",
       "  <thead>\n",
       "    <tr style=\"text-align: right;\">\n",
       "      <th></th>\n",
       "      <th>Canonical_SMILES</th>\n",
       "      <th>Device_tier</th>\n",
       "      <th>Train/Valid/Test</th>\n",
       "      <th>CN</th>\n",
       "      <th>predicted</th>\n",
       "      <th>glob_vector</th>\n",
       "    </tr>\n",
       "  </thead>\n",
       "  <tbody>\n",
       "    <tr>\n",
       "      <th>0</th>\n",
       "      <td>CCCCCCCCC=CCCCCCCCC(=O)OC</td>\n",
       "      <td>1</td>\n",
       "      <td>Train</td>\n",
       "      <td>56.000</td>\n",
       "      <td>57.968243</td>\n",
       "      <td>2.691358 14.592575 -9.436014 -5.058424 3.00276...</td>\n",
       "    </tr>\n",
       "    <tr>\n",
       "      <th>1</th>\n",
       "      <td>CCCCC/C=C\\C/C=C\\CCCCCCCC(=O)O</td>\n",
       "      <td>1</td>\n",
       "      <td>Train</td>\n",
       "      <td>31.400</td>\n",
       "      <td>32.391766</td>\n",
       "      <td>1.516829 8.199537 -5.012876 -3.377008 1.524693...</td>\n",
       "    </tr>\n",
       "    <tr>\n",
       "      <th>2</th>\n",
       "      <td>CCCCC1CCCC2CCCCC12</td>\n",
       "      <td>1</td>\n",
       "      <td>Train</td>\n",
       "      <td>30.815</td>\n",
       "      <td>29.558361</td>\n",
       "      <td>1.745941 7.646197 -4.469603 -2.352664 1.533207...</td>\n",
       "    </tr>\n",
       "    <tr>\n",
       "      <th>3</th>\n",
       "      <td>CC(=CCC=C(C)C=C)C</td>\n",
       "      <td>1</td>\n",
       "      <td>Train</td>\n",
       "      <td>28.000</td>\n",
       "      <td>28.981424</td>\n",
       "      <td>1.265745 7.677176 -4.606571 -2.230392 1.572281...</td>\n",
       "    </tr>\n",
       "    <tr>\n",
       "      <th>4</th>\n",
       "      <td>CCCCCCCC(=O)OCC</td>\n",
       "      <td>1</td>\n",
       "      <td>Train</td>\n",
       "      <td>42.060</td>\n",
       "      <td>41.965744</td>\n",
       "      <td>1.682150 10.854990 -6.497653 -3.748828 2.38611...</td>\n",
       "    </tr>\n",
       "    <tr>\n",
       "      <th>...</th>\n",
       "      <td>...</td>\n",
       "      <td>...</td>\n",
       "      <td>...</td>\n",
       "      <td>...</td>\n",
       "      <td>...</td>\n",
       "      <td>...</td>\n",
       "    </tr>\n",
       "    <tr>\n",
       "      <th>625</th>\n",
       "      <td>CCCCCCCCCCCCCCCCCC(=O)O</td>\n",
       "      <td>3</td>\n",
       "      <td>Test</td>\n",
       "      <td>62.000</td>\n",
       "      <td>70.268470</td>\n",
       "      <td>4.218513 18.318495 -10.543981 -6.405912 4.1426...</td>\n",
       "    </tr>\n",
       "    <tr>\n",
       "      <th>626</th>\n",
       "      <td>C1(=C(C=C(C=C1C)C)CCCCCCCCCCCCCCCC)C</td>\n",
       "      <td>3</td>\n",
       "      <td>Test</td>\n",
       "      <td>42.000</td>\n",
       "      <td>38.849712</td>\n",
       "      <td>2.940197 9.780895 -6.842910 -3.857143 3.013691...</td>\n",
       "    </tr>\n",
       "    <tr>\n",
       "      <th>627</th>\n",
       "      <td>CCCCCCOC(=O)C1=CC=CC=C1C(=O)OCCCCCC</td>\n",
       "      <td>3</td>\n",
       "      <td>Test</td>\n",
       "      <td>48.000</td>\n",
       "      <td>46.116280</td>\n",
       "      <td>1.885477 14.634890 -7.869594 -3.706099 2.03854...</td>\n",
       "    </tr>\n",
       "    <tr>\n",
       "      <th>628</th>\n",
       "      <td>CCCC1=CC2=C(CCCC2)C=C1</td>\n",
       "      <td>3</td>\n",
       "      <td>Test</td>\n",
       "      <td>8.000</td>\n",
       "      <td>7.196462</td>\n",
       "      <td>0.202410 1.829508 -1.479237 -0.212674 0.350839...</td>\n",
       "    </tr>\n",
       "    <tr>\n",
       "      <th>629</th>\n",
       "      <td>C1=CC=C(C=C1)C2=CC=CC=C2</td>\n",
       "      <td>2</td>\n",
       "      <td>Test</td>\n",
       "      <td>12.000</td>\n",
       "      <td>18.142866</td>\n",
       "      <td>0.730708 5.888422 -2.943194 -0.857464 0.684855...</td>\n",
       "    </tr>\n",
       "  </tbody>\n",
       "</table>\n",
       "<p>630 rows × 6 columns</p>\n",
       "</div>"
      ],
      "text/plain": [
       "                         Canonical_SMILES  Device_tier Train/Valid/Test  \\\n",
       "0               CCCCCCCCC=CCCCCCCCC(=O)OC            1            Train   \n",
       "1           CCCCC/C=C\\C/C=C\\CCCCCCCC(=O)O            1            Train   \n",
       "2                      CCCCC1CCCC2CCCCC12            1            Train   \n",
       "3                       CC(=CCC=C(C)C=C)C            1            Train   \n",
       "4                         CCCCCCCC(=O)OCC            1            Train   \n",
       "..                                    ...          ...              ...   \n",
       "625               CCCCCCCCCCCCCCCCCC(=O)O            3             Test   \n",
       "626  C1(=C(C=C(C=C1C)C)CCCCCCCCCCCCCCCC)C            3             Test   \n",
       "627   CCCCCCOC(=O)C1=CC=CC=C1C(=O)OCCCCCC            3             Test   \n",
       "628                CCCC1=CC2=C(CCCC2)C=C1            3             Test   \n",
       "629              C1=CC=C(C=C1)C2=CC=CC=C2            2             Test   \n",
       "\n",
       "         CN  predicted                                        glob_vector  \n",
       "0    56.000  57.968243  2.691358 14.592575 -9.436014 -5.058424 3.00276...  \n",
       "1    31.400  32.391766  1.516829 8.199537 -5.012876 -3.377008 1.524693...  \n",
       "2    30.815  29.558361  1.745941 7.646197 -4.469603 -2.352664 1.533207...  \n",
       "3    28.000  28.981424  1.265745 7.677176 -4.606571 -2.230392 1.572281...  \n",
       "4    42.060  41.965744  1.682150 10.854990 -6.497653 -3.748828 2.38611...  \n",
       "..      ...        ...                                                ...  \n",
       "625  62.000  70.268470  4.218513 18.318495 -10.543981 -6.405912 4.1426...  \n",
       "626  42.000  38.849712  2.940197 9.780895 -6.842910 -3.857143 3.013691...  \n",
       "627  48.000  46.116280  1.885477 14.634890 -7.869594 -3.706099 2.03854...  \n",
       "628   8.000   7.196462  0.202410 1.829508 -1.479237 -0.212674 0.350839...  \n",
       "629  12.000  18.142866  0.730708 5.888422 -2.943194 -0.857464 0.684855...  \n",
       "\n",
       "[630 rows x 6 columns]"
      ]
     },
     "execution_count": 39,
     "metadata": {},
     "output_type": "execute_result"
    }
   ],
   "source": [
    "data = pd.read_csv('./molecules_to_predict.csv')\n",
    "weighting_factor = 0.6\n",
    "data"
   ]
  },
  {
   "cell_type": "markdown",
   "id": "85068243-53fe-4398-b33c-bebcf9fd28e9",
   "metadata": {},
   "source": [
    "Note the *Device_tier* column - this is a measure of experimental reliability, and is unique to this model. Later, when defining our dataset, we'll tell the model to weight the lower tier (2 and 3) data points less when using these data points to calculate model weights and biases, per the weighting factor parameter above."
   ]
  },
  {
   "cell_type": "markdown",
   "id": "2d0049d9-3e2c-424e-a316-2f6733c0a986",
   "metadata": {},
   "source": [
    "We'll split the dataset into three parts: a training set, a validation set, and a test set.  \n",
    "The training set represents data that the model uses to learn the weights and biases that allow the neural net to make predictions.  \n",
    "The validation set is used to make an evaluation of the goodness-of-fit of the model during the training process.  \n",
    "The test set is used to evaluate the final model on a sample set of data that is representative of the population the model will be used to make predictions on.  \n",
    "  \n",
    "It may seem strange to have both a validation set and a test set - this is due to the fact that the test set must remain totally unseen. Ie., to avoid introducing human bias, the test set should not be used to select things like model hyperparameters during training. This role is then filled by the validation test. In the literature, you'll sometimes see these two terms used interchangably - this is technically not correct."
   ]
  },
  {
   "cell_type": "code",
   "execution_count": 19,
   "id": "2c51e023-fc56-45e1-a8bc-30e17564addc",
   "metadata": {},
   "outputs": [],
   "source": [
    "train = data.sample(frac=.8, random_state=random_seed)\n",
    "valid = data[~data.index.isin(train.index)].sample(frac=.5, random_state=random_seed)\n",
    "test = data[~data.index.isin(train.index) & ~data.index.isin(valid.index)]"
   ]
  },
  {
   "cell_type": "code",
   "execution_count": 20,
   "id": "a6fd931a-7383-44b1-a7ff-bf645f4f1edf",
   "metadata": {},
   "outputs": [],
   "source": [
    "preprocessor = CustomPreprocessor(\n",
    "    explicit_hs=False,\n",
    "    atom_features=atom_features,\n",
    "    bond_features=bond_features)"
   ]
  },
  {
   "cell_type": "markdown",
   "id": "f747c7a4-7784-465a-ad02-edb52ecaf2df",
   "metadata": {},
   "source": [
    "The preprocessor object reads a data object, parses it into features used by the neural network to describe the unique chemical neighborhoods of each molecule, and categorizes atoms and bonds based on these features. Let's take a look at what its doing, using a test molecule"
   ]
  },
  {
   "cell_type": "code",
   "execution_count": 30,
   "id": "e32712fd-b8b1-4705-8896-a4dc3230c176",
   "metadata": {},
   "outputs": [
    {
     "name": "stdout",
     "output_type": "stream",
     "text": [
      "(3, 'C', False, 0)\n"
     ]
    }
   ],
   "source": [
    "mol = rdkit.Chem.MolFromSmiles('CO')\n",
    "print(atom_features(next(mol.GetAtoms()))) # The rdkit GetAtoms method returns an iterator of rdkit Atom objects; get the next item using next keyword."
   ]
  },
  {
   "cell_type": "code",
   "execution_count": 31,
   "id": "28fa5792-ae0e-455e-bb38-e276f2dd28be",
   "metadata": {},
   "outputs": [
    {
     "name": "stdout",
     "output_type": "stream",
     "text": [
      "(rdkit.Chem.rdchem.BondType.SINGLE, 0, 'C', 'O')\n"
     ]
    }
   ],
   "source": [
    "print(bond_features(next(mol.GetBonds())))"
   ]
  },
  {
   "cell_type": "code",
   "execution_count": 32,
   "id": "4fe7b35c-2e05-4f43-8e42-4f63b51166fd",
   "metadata": {},
   "outputs": [
    {
     "name": "stdout",
     "output_type": "stream",
     "text": [
      "Atom classes before: 2 (includes 'none' and 'missing' classes)\n",
      "Bond classes before: 2 (includes 'none' and 'missing' classes)\n"
     ]
    }
   ],
   "source": [
    "print(f\"Atom classes before: {preprocessor.atom_classes} (includes 'none' and 'missing' classes)\")\n",
    "print(f\"Bond classes before: {preprocessor.bond_classes} (includes 'none' and 'missing' classes)\")"
   ]
  },
  {
   "cell_type": "code",
   "execution_count": 34,
   "id": "328b21a3-4208-411e-9c7c-3ca1959840b1",
   "metadata": {},
   "outputs": [
    {
     "name": "stdout",
     "output_type": "stream",
     "text": [
      "Number of unique atom classes found after preprocessing: 26\n",
      "Number of unique bond classes found after preprocessing: 23\n"
     ]
    }
   ],
   "source": [
    "for smiles in train.Canonical_SMILES:\n",
    "    preprocessor.construct_feature_matrices(smiles, train=True)\n",
    "print(f'Number of unique atom classes found after preprocessing: {preprocessor.atom_classes}')\n",
    "print(f'Number of unique bond classes found after preprocessing: {preprocessor.bond_classes}')"
   ]
  },
  {
   "cell_type": "markdown",
   "id": "d234f0ac-f2a3-4466-9f27-0b9f3e467309",
   "metadata": {},
   "source": [
    "The tensorflow model needs to know how the model output looks:"
   ]
  },
  {
   "cell_type": "code",
   "execution_count": 36,
   "id": "8977e169-d338-42f3-84e7-ed382dc63ab9",
   "metadata": {},
   "outputs": [],
   "source": [
    "output_signature = (preprocessor.output_signature,\n",
    "                        tf.TensorSpec(shape=(), dtype=tf.float32),\n",
    "                        tf.TensorSpec(shape=(), dtype=tf.float32))"
   ]
  },
  {
   "cell_type": "code",
   "execution_count": 41,
   "id": "d3865d28-1dac-451b-95c7-85d35bfebbd7",
   "metadata": {},
   "outputs": [],
   "source": [
    "train_data = tf.data.Dataset.from_generator(\n",
    "    lambda: create_tf_dataset(train, preprocessor, weighting_factor, True), output_signature=output_signature)\\\n",
    "    .cache().shuffle(buffer_size=1000)\\\n",
    "    .padded_batch(batch_size=16)\\\n",
    "    .prefetch(tf.data.experimental.AUTOTUNE)"
   ]
  },
  {
   "cell_type": "markdown",
   "id": "77e6605f-cb0b-4142-ae56-4b1709fae643",
   "metadata": {},
   "source": [
    "The batch size is a parameter that allows for more efficient training - by batching samples, tensorflow is able to take advantage of the larger memory and parallel processing abilities of modern GPUs. In essence, tensorflow stacks inputs on top of each other (number given by the batch size argument) and performs each training iteration for the entire batch, as opposed to just one input at a time. So, if each input looks like a [32, 32] matrix, a batch size of 16 will create a batch object of size [32, 32, 16]. This can greatly speed up training, but this number should be tweaked to fit the GPU you're working with. If this is too high, it can cause Out of Memory errors."
   ]
  },
  {
   "cell_type": "code",
   "execution_count": 43,
   "id": "ef4315e2-037f-4348-ae06-0d7736ac5bdb",
   "metadata": {},
   "outputs": [],
   "source": [
    "valid_data = tf.data.Dataset.from_generator(\n",
    "    lambda: create_tf_dataset(valid, preprocessor, weighting_factor, False), output_signature=output_signature)\\\n",
    "    .cache()\\\n",
    "    .padded_batch(batch_size=16)\\\n",
    "    .prefetch(tf.data.experimental.AUTOTUNE)\n",
    "test_data = tf.data.Dataset.from_generator(\n",
    "    lambda: create_tf_dataset(test, preprocessor, weighting_factor, False), output_signature=output_signature)\\\n",
    "    .cache()\\\n",
    "    .padded_batch(batch_size=16)\\\n",
    "    .prefetch(tf.data.experimental.AUTOTUNE)\n"
   ]
  },
  {
   "cell_type": "code",
   "execution_count": 44,
   "id": "2bc64c54-2fa2-4ef3-8aeb-fdf36af957d5",
   "metadata": {},
   "outputs": [],
   "source": [
    "atom_Input = layers.Input(shape=[None], dtype=tf.int32, name='atom')\n",
    "bond_Input = layers.Input(shape=[None], dtype=tf.int32, name='bond')\n",
    "connectivity_Input = layers.Input(shape=[None, 2], dtype=tf.int32, name='connectivity')\n",
    "global_Input = layers.Input(shape=[2], dtype=tf.float32, name='mol_features')"
   ]
  },
  {
   "cell_type": "code",
   "execution_count": 45,
   "id": "aa0186bf-03b1-4efa-8ed6-3501b75f0370",
   "metadata": {},
   "outputs": [],
   "source": [
    "features_dim = 64\n",
    "num_messages = 5"
   ]
  },
  {
   "cell_type": "code",
   "execution_count": 48,
   "id": "3f081ef8-bad2-4684-8f7d-341e8132fa6d",
   "metadata": {},
   "outputs": [],
   "source": [
    "atom_state = layers.Embedding(preprocessor.atom_classes, features_dim,\n",
    "                              name='atom_embedding', mask_zero=True,\n",
    "                              embeddings_regularizer='l2')(atom_Input)"
   ]
  },
  {
   "cell_type": "code",
   "execution_count": 46,
   "id": "aa06f700-ed39-48b5-96eb-50df736c9f07",
   "metadata": {},
   "outputs": [],
   "source": [
    "bond_state = layers.Embedding(preprocessor.bond_classes, features_dim,\n",
    "                              name='bond_embedding', mask_zero=True,\n",
    "                              embeddings_regularizer='l2')(bond_Input)"
   ]
  },
  {
   "cell_type": "code",
   "execution_count": 47,
   "id": "9bcdfab1-f543-4ab2-a15c-476655e5d020",
   "metadata": {},
   "outputs": [],
   "source": [
    "global_state = layers.Dense(features_dim, activation='relu')(global_Input) "
   ]
  },
  {
   "cell_type": "code",
   "execution_count": 49,
   "id": "e78fad56-7922-41f6-b469-c1af58443eaf",
   "metadata": {},
   "outputs": [
    {
     "name": "stdout",
     "output_type": "stream",
     "text": [
      "WARNING:tensorflow:From /home/sabari/.conda/envs/cn-pred/lib/python3.7/site-packages/tensorflow/python/ops/array_ops.py:5049: calling gather (from tensorflow.python.ops.array_ops) with validate_indices is deprecated and will be removed in a future version.\n",
      "Instructions for updating:\n",
      "The `validate_indices` argument has no effect. Indices are always validated on CPU and never validated on GPU.\n"
     ]
    }
   ],
   "source": [
    "for i in range(num_messages):\n",
    "    atom_state, bond_state, global_state = message_block(atom_state, bond_state,\n",
    "                                                            global_state, connectivity_Input, features_dim, i)"
   ]
  },
  {
   "cell_type": "code",
   "execution_count": 50,
   "id": "5c9878f5-d94f-4f1e-8963-7aecb61251c6",
   "metadata": {},
   "outputs": [],
   "source": [
    "prediction = layers.Dense(1)(global_state)"
   ]
  },
  {
   "cell_type": "code",
   "execution_count": 51,
   "id": "769a900a-6d04-4dd5-b8cf-4b207fac672e",
   "metadata": {},
   "outputs": [],
   "source": [
    "input_tensors = [atom_Input, bond_Input, connectivity_Input, global_Input]"
   ]
  },
  {
   "cell_type": "code",
   "execution_count": 52,
   "id": "3ae64950-cf20-4586-9dd4-e1f9d7cd9edd",
   "metadata": {},
   "outputs": [],
   "source": [
    "model = tf.keras.Model(input_tensors, [prediction])"
   ]
  },
  {
   "cell_type": "code",
   "execution_count": 54,
   "id": "8c72d6e3-6873-4602-a31f-4cb394efbeab",
   "metadata": {},
   "outputs": [],
   "source": [
    "learning_rate = 1.0e-4\n",
    "model.compile(loss='mae', optimizer=tf.keras.optimizers.Adam(learning_rate))"
   ]
  },
  {
   "cell_type": "code",
   "execution_count": 67,
   "id": "5f2f5c8b-30d0-43c9-a97d-0d3247f669c2",
   "metadata": {},
   "outputs": [
    {
     "name": "stdout",
     "output_type": "stream",
     "text": [
      "WARNING:tensorflow:`period` argument is deprecated. Please use `save_freq` to specify the frequency in number of batches seen.\n"
     ]
    }
   ],
   "source": [
    "cal = date.today()\n",
    "model_path = f'./model_files/{cal.strftime(\"%Y%m%d\")}/{cal.strftime(\"%H%M\")}.hf'\n",
    "checkpoint = ModelCheckpoint(model_path, monitor=\"val_loss\",\\\n",
    "                                 verbose=2, save_best_only = True, mode='auto', period=1 )"
   ]
  },
  {
   "cell_type": "code",
   "execution_count": 68,
   "id": "d24ddbec-f0e4-42b3-93de-a6a9a08efee2",
   "metadata": {
    "collapsed": true,
    "jupyter": {
     "outputs_hidden": true
    },
    "tags": []
   },
   "outputs": [
    {
     "name": "stdout",
     "output_type": "stream",
     "text": [
      "Epoch 1/20\n"
     ]
    },
    {
     "name": "stderr",
     "output_type": "stream",
     "text": [
      "2023-06-05 11:24:33.670895: I tensorflow/compiler/mlir/mlir_graph_optimization_pass.cc:176] None of the MLIR Optimization Passes are enabled (registered 2)\n",
      "2023-06-05 11:24:33.716386: I tensorflow/core/platform/profile_utils/cpu_utils.cc:114] CPU Frequency: 2400000000 Hz\n",
      "2023-06-05 11:24:36.016337: I tensorflow/stream_executor/platform/default/dso_loader.cc:53] Successfully opened dynamic library libcublas.so.11\n",
      "2023-06-05 11:24:36.434809: I tensorflow/stream_executor/platform/default/dso_loader.cc:53] Successfully opened dynamic library libcublasLt.so.11\n"
     ]
    },
    {
     "name": "stdout",
     "output_type": "stream",
     "text": [
      "32/32 - 8s - loss: 26.9923 - val_loss: 26.2861\n",
      "\n",
      "Epoch 00001: val_loss improved from inf to 26.28610, saving model to ./model_files/20230605/0000.hf\n"
     ]
    },
    {
     "name": "stderr",
     "output_type": "stream",
     "text": [
      "2023-06-05 11:24:40.448409: W tensorflow/python/util/util.cc:348] Sets are not currently considered sequences, but this may change in the future, so consider avoiding using them.\n",
      "WARNING:absl:Found untraced functions such as tile_layer_call_and_return_conditional_losses, tile_layer_call_fn, gather_layer_call_and_return_conditional_losses, gather_layer_call_fn, slice_layer_call_and_return_conditional_losses while saving (showing 5 of 380). These functions will not be directly callable after loading.\n",
      "/home/sabari/.conda/envs/cn-pred/lib/python3.7/site-packages/tensorflow/python/keras/utils/generic_utils.py:497: CustomMaskWarning: Custom mask layers require a config and must override get_config. When loading, the custom mask layer must be passed to the custom_objects argument.\n",
      "  category=CustomMaskWarning)\n"
     ]
    },
    {
     "name": "stdout",
     "output_type": "stream",
     "text": [
      "INFO:tensorflow:Assets written to: ./model_files/20230605/0000.hf/assets\n"
     ]
    },
    {
     "name": "stderr",
     "output_type": "stream",
     "text": [
      "INFO:tensorflow:Assets written to: ./model_files/20230605/0000.hf/assets\n"
     ]
    },
    {
     "name": "stdout",
     "output_type": "stream",
     "text": [
      "Epoch 2/20\n",
      "32/32 - 0s - loss: 16.8582 - val_loss: 16.8176\n",
      "\n",
      "Epoch 00002: val_loss improved from 26.28610 to 16.81765, saving model to ./model_files/20230605/0000.hf\n"
     ]
    },
    {
     "name": "stderr",
     "output_type": "stream",
     "text": [
      "WARNING:absl:Found untraced functions such as tile_layer_call_and_return_conditional_losses, tile_layer_call_fn, gather_layer_call_and_return_conditional_losses, gather_layer_call_fn, slice_layer_call_and_return_conditional_losses while saving (showing 5 of 380). These functions will not be directly callable after loading.\n",
      "/home/sabari/.conda/envs/cn-pred/lib/python3.7/site-packages/tensorflow/python/keras/utils/generic_utils.py:497: CustomMaskWarning: Custom mask layers require a config and must override get_config. When loading, the custom mask layer must be passed to the custom_objects argument.\n",
      "  category=CustomMaskWarning)\n"
     ]
    },
    {
     "name": "stdout",
     "output_type": "stream",
     "text": [
      "INFO:tensorflow:Assets written to: ./model_files/20230605/0000.hf/assets\n"
     ]
    },
    {
     "name": "stderr",
     "output_type": "stream",
     "text": [
      "INFO:tensorflow:Assets written to: ./model_files/20230605/0000.hf/assets\n"
     ]
    },
    {
     "name": "stdout",
     "output_type": "stream",
     "text": [
      "Epoch 3/20\n",
      "32/32 - 0s - loss: 12.7065 - val_loss: 15.7204\n",
      "\n",
      "Epoch 00003: val_loss improved from 16.81765 to 15.72044, saving model to ./model_files/20230605/0000.hf\n"
     ]
    },
    {
     "name": "stderr",
     "output_type": "stream",
     "text": [
      "WARNING:absl:Found untraced functions such as tile_layer_call_and_return_conditional_losses, tile_layer_call_fn, gather_layer_call_and_return_conditional_losses, gather_layer_call_fn, slice_layer_call_and_return_conditional_losses while saving (showing 5 of 380). These functions will not be directly callable after loading.\n",
      "/home/sabari/.conda/envs/cn-pred/lib/python3.7/site-packages/tensorflow/python/keras/utils/generic_utils.py:497: CustomMaskWarning: Custom mask layers require a config and must override get_config. When loading, the custom mask layer must be passed to the custom_objects argument.\n",
      "  category=CustomMaskWarning)\n"
     ]
    },
    {
     "name": "stdout",
     "output_type": "stream",
     "text": [
      "INFO:tensorflow:Assets written to: ./model_files/20230605/0000.hf/assets\n"
     ]
    },
    {
     "name": "stderr",
     "output_type": "stream",
     "text": [
      "INFO:tensorflow:Assets written to: ./model_files/20230605/0000.hf/assets\n"
     ]
    },
    {
     "name": "stdout",
     "output_type": "stream",
     "text": [
      "Epoch 4/20\n",
      "32/32 - 0s - loss: 11.4416 - val_loss: 14.6084\n",
      "\n",
      "Epoch 00004: val_loss improved from 15.72044 to 14.60838, saving model to ./model_files/20230605/0000.hf\n"
     ]
    },
    {
     "name": "stderr",
     "output_type": "stream",
     "text": [
      "WARNING:absl:Found untraced functions such as tile_layer_call_and_return_conditional_losses, tile_layer_call_fn, gather_layer_call_and_return_conditional_losses, gather_layer_call_fn, slice_layer_call_and_return_conditional_losses while saving (showing 5 of 380). These functions will not be directly callable after loading.\n",
      "/home/sabari/.conda/envs/cn-pred/lib/python3.7/site-packages/tensorflow/python/keras/utils/generic_utils.py:497: CustomMaskWarning: Custom mask layers require a config and must override get_config. When loading, the custom mask layer must be passed to the custom_objects argument.\n",
      "  category=CustomMaskWarning)\n"
     ]
    },
    {
     "name": "stdout",
     "output_type": "stream",
     "text": [
      "INFO:tensorflow:Assets written to: ./model_files/20230605/0000.hf/assets\n"
     ]
    },
    {
     "name": "stderr",
     "output_type": "stream",
     "text": [
      "INFO:tensorflow:Assets written to: ./model_files/20230605/0000.hf/assets\n"
     ]
    },
    {
     "name": "stdout",
     "output_type": "stream",
     "text": [
      "Epoch 5/20\n",
      "32/32 - 0s - loss: 11.1006 - val_loss: 13.5324\n",
      "\n",
      "Epoch 00005: val_loss improved from 14.60838 to 13.53239, saving model to ./model_files/20230605/0000.hf\n"
     ]
    },
    {
     "name": "stderr",
     "output_type": "stream",
     "text": [
      "WARNING:absl:Found untraced functions such as tile_layer_call_and_return_conditional_losses, tile_layer_call_fn, gather_layer_call_and_return_conditional_losses, gather_layer_call_fn, slice_layer_call_and_return_conditional_losses while saving (showing 5 of 380). These functions will not be directly callable after loading.\n",
      "/home/sabari/.conda/envs/cn-pred/lib/python3.7/site-packages/tensorflow/python/keras/utils/generic_utils.py:497: CustomMaskWarning: Custom mask layers require a config and must override get_config. When loading, the custom mask layer must be passed to the custom_objects argument.\n",
      "  category=CustomMaskWarning)\n"
     ]
    },
    {
     "name": "stdout",
     "output_type": "stream",
     "text": [
      "INFO:tensorflow:Assets written to: ./model_files/20230605/0000.hf/assets\n"
     ]
    },
    {
     "name": "stderr",
     "output_type": "stream",
     "text": [
      "INFO:tensorflow:Assets written to: ./model_files/20230605/0000.hf/assets\n"
     ]
    },
    {
     "name": "stdout",
     "output_type": "stream",
     "text": [
      "Epoch 6/20\n",
      "32/32 - 0s - loss: 10.5260 - val_loss: 13.5787\n",
      "\n",
      "Epoch 00006: val_loss did not improve from 13.53239\n",
      "Epoch 7/20\n",
      "32/32 - 0s - loss: 10.0466 - val_loss: 13.0496\n",
      "\n",
      "Epoch 00007: val_loss improved from 13.53239 to 13.04956, saving model to ./model_files/20230605/0000.hf\n"
     ]
    },
    {
     "name": "stderr",
     "output_type": "stream",
     "text": [
      "WARNING:absl:Found untraced functions such as tile_layer_call_and_return_conditional_losses, tile_layer_call_fn, gather_layer_call_and_return_conditional_losses, gather_layer_call_fn, slice_layer_call_and_return_conditional_losses while saving (showing 5 of 380). These functions will not be directly callable after loading.\n",
      "/home/sabari/.conda/envs/cn-pred/lib/python3.7/site-packages/tensorflow/python/keras/utils/generic_utils.py:497: CustomMaskWarning: Custom mask layers require a config and must override get_config. When loading, the custom mask layer must be passed to the custom_objects argument.\n",
      "  category=CustomMaskWarning)\n"
     ]
    },
    {
     "name": "stdout",
     "output_type": "stream",
     "text": [
      "INFO:tensorflow:Assets written to: ./model_files/20230605/0000.hf/assets\n"
     ]
    },
    {
     "name": "stderr",
     "output_type": "stream",
     "text": [
      "INFO:tensorflow:Assets written to: ./model_files/20230605/0000.hf/assets\n"
     ]
    },
    {
     "name": "stdout",
     "output_type": "stream",
     "text": [
      "Epoch 8/20\n",
      "32/32 - 0s - loss: 10.1111 - val_loss: 12.8176\n",
      "\n",
      "Epoch 00008: val_loss improved from 13.04956 to 12.81756, saving model to ./model_files/20230605/0000.hf\n"
     ]
    },
    {
     "name": "stderr",
     "output_type": "stream",
     "text": [
      "WARNING:absl:Found untraced functions such as tile_layer_call_and_return_conditional_losses, tile_layer_call_fn, gather_layer_call_and_return_conditional_losses, gather_layer_call_fn, slice_layer_call_and_return_conditional_losses while saving (showing 5 of 380). These functions will not be directly callable after loading.\n",
      "/home/sabari/.conda/envs/cn-pred/lib/python3.7/site-packages/tensorflow/python/keras/utils/generic_utils.py:497: CustomMaskWarning: Custom mask layers require a config and must override get_config. When loading, the custom mask layer must be passed to the custom_objects argument.\n",
      "  category=CustomMaskWarning)\n"
     ]
    },
    {
     "name": "stdout",
     "output_type": "stream",
     "text": [
      "INFO:tensorflow:Assets written to: ./model_files/20230605/0000.hf/assets\n"
     ]
    },
    {
     "name": "stderr",
     "output_type": "stream",
     "text": [
      "INFO:tensorflow:Assets written to: ./model_files/20230605/0000.hf/assets\n"
     ]
    },
    {
     "name": "stdout",
     "output_type": "stream",
     "text": [
      "Epoch 9/20\n",
      "32/32 - 0s - loss: 9.8192 - val_loss: 13.2897\n",
      "\n",
      "Epoch 00009: val_loss did not improve from 12.81756\n",
      "Epoch 10/20\n",
      "32/32 - 0s - loss: 9.3965 - val_loss: 12.3556\n",
      "\n",
      "Epoch 00010: val_loss improved from 12.81756 to 12.35556, saving model to ./model_files/20230605/0000.hf\n"
     ]
    },
    {
     "name": "stderr",
     "output_type": "stream",
     "text": [
      "WARNING:absl:Found untraced functions such as tile_layer_call_and_return_conditional_losses, tile_layer_call_fn, gather_layer_call_and_return_conditional_losses, gather_layer_call_fn, slice_layer_call_and_return_conditional_losses while saving (showing 5 of 380). These functions will not be directly callable after loading.\n",
      "/home/sabari/.conda/envs/cn-pred/lib/python3.7/site-packages/tensorflow/python/keras/utils/generic_utils.py:497: CustomMaskWarning: Custom mask layers require a config and must override get_config. When loading, the custom mask layer must be passed to the custom_objects argument.\n",
      "  category=CustomMaskWarning)\n"
     ]
    },
    {
     "name": "stdout",
     "output_type": "stream",
     "text": [
      "INFO:tensorflow:Assets written to: ./model_files/20230605/0000.hf/assets\n"
     ]
    },
    {
     "name": "stderr",
     "output_type": "stream",
     "text": [
      "INFO:tensorflow:Assets written to: ./model_files/20230605/0000.hf/assets\n"
     ]
    },
    {
     "name": "stdout",
     "output_type": "stream",
     "text": [
      "Epoch 11/20\n",
      "32/32 - 0s - loss: 8.9105 - val_loss: 12.1516\n",
      "\n",
      "Epoch 00011: val_loss improved from 12.35556 to 12.15156, saving model to ./model_files/20230605/0000.hf\n"
     ]
    },
    {
     "name": "stderr",
     "output_type": "stream",
     "text": [
      "WARNING:absl:Found untraced functions such as tile_layer_call_and_return_conditional_losses, tile_layer_call_fn, gather_layer_call_and_return_conditional_losses, gather_layer_call_fn, slice_layer_call_and_return_conditional_losses while saving (showing 5 of 380). These functions will not be directly callable after loading.\n",
      "/home/sabari/.conda/envs/cn-pred/lib/python3.7/site-packages/tensorflow/python/keras/utils/generic_utils.py:497: CustomMaskWarning: Custom mask layers require a config and must override get_config. When loading, the custom mask layer must be passed to the custom_objects argument.\n",
      "  category=CustomMaskWarning)\n"
     ]
    },
    {
     "name": "stdout",
     "output_type": "stream",
     "text": [
      "INFO:tensorflow:Assets written to: ./model_files/20230605/0000.hf/assets\n"
     ]
    },
    {
     "name": "stderr",
     "output_type": "stream",
     "text": [
      "INFO:tensorflow:Assets written to: ./model_files/20230605/0000.hf/assets\n"
     ]
    },
    {
     "name": "stdout",
     "output_type": "stream",
     "text": [
      "Epoch 12/20\n",
      "32/32 - 0s - loss: 8.7910 - val_loss: 12.0998\n",
      "\n",
      "Epoch 00012: val_loss improved from 12.15156 to 12.09977, saving model to ./model_files/20230605/0000.hf\n"
     ]
    },
    {
     "name": "stderr",
     "output_type": "stream",
     "text": [
      "WARNING:absl:Found untraced functions such as tile_layer_call_and_return_conditional_losses, tile_layer_call_fn, gather_layer_call_and_return_conditional_losses, gather_layer_call_fn, slice_layer_call_and_return_conditional_losses while saving (showing 5 of 380). These functions will not be directly callable after loading.\n",
      "/home/sabari/.conda/envs/cn-pred/lib/python3.7/site-packages/tensorflow/python/keras/utils/generic_utils.py:497: CustomMaskWarning: Custom mask layers require a config and must override get_config. When loading, the custom mask layer must be passed to the custom_objects argument.\n",
      "  category=CustomMaskWarning)\n"
     ]
    },
    {
     "name": "stdout",
     "output_type": "stream",
     "text": [
      "INFO:tensorflow:Assets written to: ./model_files/20230605/0000.hf/assets\n"
     ]
    },
    {
     "name": "stderr",
     "output_type": "stream",
     "text": [
      "INFO:tensorflow:Assets written to: ./model_files/20230605/0000.hf/assets\n"
     ]
    },
    {
     "name": "stdout",
     "output_type": "stream",
     "text": [
      "Epoch 13/20\n",
      "32/32 - 0s - loss: 8.7122 - val_loss: 11.5248\n",
      "\n",
      "Epoch 00013: val_loss improved from 12.09977 to 11.52478, saving model to ./model_files/20230605/0000.hf\n"
     ]
    },
    {
     "name": "stderr",
     "output_type": "stream",
     "text": [
      "WARNING:absl:Found untraced functions such as tile_layer_call_and_return_conditional_losses, tile_layer_call_fn, gather_layer_call_and_return_conditional_losses, gather_layer_call_fn, slice_layer_call_and_return_conditional_losses while saving (showing 5 of 380). These functions will not be directly callable after loading.\n",
      "/home/sabari/.conda/envs/cn-pred/lib/python3.7/site-packages/tensorflow/python/keras/utils/generic_utils.py:497: CustomMaskWarning: Custom mask layers require a config and must override get_config. When loading, the custom mask layer must be passed to the custom_objects argument.\n",
      "  category=CustomMaskWarning)\n"
     ]
    },
    {
     "name": "stdout",
     "output_type": "stream",
     "text": [
      "INFO:tensorflow:Assets written to: ./model_files/20230605/0000.hf/assets\n"
     ]
    },
    {
     "name": "stderr",
     "output_type": "stream",
     "text": [
      "INFO:tensorflow:Assets written to: ./model_files/20230605/0000.hf/assets\n"
     ]
    },
    {
     "name": "stdout",
     "output_type": "stream",
     "text": [
      "Epoch 14/20\n",
      "32/32 - 0s - loss: 8.2578 - val_loss: 11.3500\n",
      "\n",
      "Epoch 00014: val_loss improved from 11.52478 to 11.34997, saving model to ./model_files/20230605/0000.hf\n"
     ]
    },
    {
     "name": "stderr",
     "output_type": "stream",
     "text": [
      "WARNING:absl:Found untraced functions such as tile_layer_call_and_return_conditional_losses, tile_layer_call_fn, gather_layer_call_and_return_conditional_losses, gather_layer_call_fn, slice_layer_call_and_return_conditional_losses while saving (showing 5 of 380). These functions will not be directly callable after loading.\n",
      "/home/sabari/.conda/envs/cn-pred/lib/python3.7/site-packages/tensorflow/python/keras/utils/generic_utils.py:497: CustomMaskWarning: Custom mask layers require a config and must override get_config. When loading, the custom mask layer must be passed to the custom_objects argument.\n",
      "  category=CustomMaskWarning)\n"
     ]
    },
    {
     "name": "stdout",
     "output_type": "stream",
     "text": [
      "INFO:tensorflow:Assets written to: ./model_files/20230605/0000.hf/assets\n"
     ]
    },
    {
     "name": "stderr",
     "output_type": "stream",
     "text": [
      "INFO:tensorflow:Assets written to: ./model_files/20230605/0000.hf/assets\n"
     ]
    },
    {
     "name": "stdout",
     "output_type": "stream",
     "text": [
      "Epoch 15/20\n",
      "32/32 - 0s - loss: 8.4615 - val_loss: 11.8484\n",
      "\n",
      "Epoch 00015: val_loss did not improve from 11.34997\n",
      "Epoch 16/20\n",
      "32/32 - 0s - loss: 8.1442 - val_loss: 10.7667\n",
      "\n",
      "Epoch 00016: val_loss improved from 11.34997 to 10.76675, saving model to ./model_files/20230605/0000.hf\n"
     ]
    },
    {
     "name": "stderr",
     "output_type": "stream",
     "text": [
      "WARNING:absl:Found untraced functions such as tile_layer_call_and_return_conditional_losses, tile_layer_call_fn, gather_layer_call_and_return_conditional_losses, gather_layer_call_fn, slice_layer_call_and_return_conditional_losses while saving (showing 5 of 380). These functions will not be directly callable after loading.\n",
      "/home/sabari/.conda/envs/cn-pred/lib/python3.7/site-packages/tensorflow/python/keras/utils/generic_utils.py:497: CustomMaskWarning: Custom mask layers require a config and must override get_config. When loading, the custom mask layer must be passed to the custom_objects argument.\n",
      "  category=CustomMaskWarning)\n"
     ]
    },
    {
     "name": "stdout",
     "output_type": "stream",
     "text": [
      "INFO:tensorflow:Assets written to: ./model_files/20230605/0000.hf/assets\n"
     ]
    },
    {
     "name": "stderr",
     "output_type": "stream",
     "text": [
      "INFO:tensorflow:Assets written to: ./model_files/20230605/0000.hf/assets\n"
     ]
    },
    {
     "name": "stdout",
     "output_type": "stream",
     "text": [
      "Epoch 17/20\n",
      "32/32 - 0s - loss: 8.0908 - val_loss: 10.5415\n",
      "\n",
      "Epoch 00017: val_loss improved from 10.76675 to 10.54148, saving model to ./model_files/20230605/0000.hf\n"
     ]
    },
    {
     "name": "stderr",
     "output_type": "stream",
     "text": [
      "WARNING:absl:Found untraced functions such as tile_layer_call_and_return_conditional_losses, tile_layer_call_fn, gather_layer_call_and_return_conditional_losses, gather_layer_call_fn, slice_layer_call_and_return_conditional_losses while saving (showing 5 of 380). These functions will not be directly callable after loading.\n",
      "/home/sabari/.conda/envs/cn-pred/lib/python3.7/site-packages/tensorflow/python/keras/utils/generic_utils.py:497: CustomMaskWarning: Custom mask layers require a config and must override get_config. When loading, the custom mask layer must be passed to the custom_objects argument.\n",
      "  category=CustomMaskWarning)\n"
     ]
    },
    {
     "name": "stdout",
     "output_type": "stream",
     "text": [
      "INFO:tensorflow:Assets written to: ./model_files/20230605/0000.hf/assets\n"
     ]
    },
    {
     "name": "stderr",
     "output_type": "stream",
     "text": [
      "INFO:tensorflow:Assets written to: ./model_files/20230605/0000.hf/assets\n"
     ]
    },
    {
     "name": "stdout",
     "output_type": "stream",
     "text": [
      "Epoch 18/20\n",
      "32/32 - 0s - loss: 7.5509 - val_loss: 10.5014\n",
      "\n",
      "Epoch 00018: val_loss improved from 10.54148 to 10.50139, saving model to ./model_files/20230605/0000.hf\n"
     ]
    },
    {
     "name": "stderr",
     "output_type": "stream",
     "text": [
      "WARNING:absl:Found untraced functions such as tile_layer_call_and_return_conditional_losses, tile_layer_call_fn, gather_layer_call_and_return_conditional_losses, gather_layer_call_fn, slice_layer_call_and_return_conditional_losses while saving (showing 5 of 380). These functions will not be directly callable after loading.\n",
      "/home/sabari/.conda/envs/cn-pred/lib/python3.7/site-packages/tensorflow/python/keras/utils/generic_utils.py:497: CustomMaskWarning: Custom mask layers require a config and must override get_config. When loading, the custom mask layer must be passed to the custom_objects argument.\n",
      "  category=CustomMaskWarning)\n"
     ]
    },
    {
     "name": "stdout",
     "output_type": "stream",
     "text": [
      "INFO:tensorflow:Assets written to: ./model_files/20230605/0000.hf/assets\n"
     ]
    },
    {
     "name": "stderr",
     "output_type": "stream",
     "text": [
      "INFO:tensorflow:Assets written to: ./model_files/20230605/0000.hf/assets\n"
     ]
    },
    {
     "name": "stdout",
     "output_type": "stream",
     "text": [
      "Epoch 19/20\n",
      "32/32 - 0s - loss: 7.9536 - val_loss: 12.5060\n",
      "\n",
      "Epoch 00019: val_loss did not improve from 10.50139\n",
      "Epoch 20/20\n",
      "32/32 - 0s - loss: 7.5705 - val_loss: 9.8098\n",
      "\n",
      "Epoch 00020: val_loss improved from 10.50139 to 9.80983, saving model to ./model_files/20230605/0000.hf\n"
     ]
    },
    {
     "name": "stderr",
     "output_type": "stream",
     "text": [
      "WARNING:absl:Found untraced functions such as tile_layer_call_and_return_conditional_losses, tile_layer_call_fn, gather_layer_call_and_return_conditional_losses, gather_layer_call_fn, slice_layer_call_and_return_conditional_losses while saving (showing 5 of 380). These functions will not be directly callable after loading.\n",
      "/home/sabari/.conda/envs/cn-pred/lib/python3.7/site-packages/tensorflow/python/keras/utils/generic_utils.py:497: CustomMaskWarning: Custom mask layers require a config and must override get_config. When loading, the custom mask layer must be passed to the custom_objects argument.\n",
      "  category=CustomMaskWarning)\n"
     ]
    },
    {
     "name": "stdout",
     "output_type": "stream",
     "text": [
      "INFO:tensorflow:Assets written to: ./model_files/20230605/0000.hf/assets\n"
     ]
    },
    {
     "name": "stderr",
     "output_type": "stream",
     "text": [
      "INFO:tensorflow:Assets written to: ./model_files/20230605/0000.hf/assets\n"
     ]
    }
   ],
   "source": [
    "hist = model.fit(train_data,\n",
    "                     validation_data=valid_data,\n",
    "                     epochs=20,\n",
    "                     verbose=2, callbacks = [checkpoint])"
   ]
  },
  {
   "cell_type": "code",
   "execution_count": 75,
   "id": "43b26592-9275-4480-abe0-f1a18ed00bc8",
   "metadata": {},
   "outputs": [
    {
     "name": "stderr",
     "output_type": "stream",
     "text": [
      "2023-06-05 12:42:43.246091: W tensorflow/core/util/tensor_slice_reader.cc:95] Could not open ./model_files/20230605/0000.hf: Failed precondition: model_files/20230605/0000.hf; Is a directory: perhaps your file is in a different file format and you need to use a different restore operator?\n"
     ]
    },
    {
     "data": {
      "text/plain": [
       "<tensorflow.python.training.tracking.util.CheckpointLoadStatus at 0x149be06bb990>"
      ]
     },
     "execution_count": 75,
     "metadata": {},
     "output_type": "execute_result"
    }
   ],
   "source": [
    "# Load in the trained model weights. Replace this with a path to the downloaded fully trained weights if\n",
    "# you want to make actual predictions\n",
    "model.load_weights(model_path)"
   ]
  },
  {
   "cell_type": "code",
   "execution_count": 71,
   "id": "f2927fff-f965-4742-ac5f-039c317e392a",
   "metadata": {},
   "outputs": [],
   "source": [
    "train_results = model.predict(train_data).squeeze()\n",
    "valid_results = model.predict(valid_data).squeeze()\n",
    "\n",
    "mae_train = np.abs(train_results - train['CN']).mean()\n",
    "mae_valid = np.abs(valid_results - valid['CN']).mean()"
   ]
  },
  {
   "cell_type": "code",
   "execution_count": 73,
   "id": "17c1c454-b8f1-4a87-b0e3-9d3ec2f9df8d",
   "metadata": {},
   "outputs": [],
   "source": [
    "preprocessor.to_json(f\"model_files/{cal.strftime('%Y%m%d')}/preprocessor.json\")"
   ]
  },
  {
   "cell_type": "code",
   "execution_count": 74,
   "id": "e0ccbfb5-8abb-404c-b964-44013b336772",
   "metadata": {},
   "outputs": [
    {
     "data": {
      "text/plain": [
       "27.107588859568853"
      ]
     },
     "execution_count": 74,
     "metadata": {},
     "output_type": "execute_result"
    }
   ],
   "source": [
    "mae_train"
   ]
  },
  {
   "cell_type": "code",
   "execution_count": null,
   "id": "1ec2a689-7aec-4f54-a826-be85e113f11c",
   "metadata": {},
   "outputs": [],
   "source": []
  }
 ],
 "metadata": {
  "kernelspec": {
   "display_name": "cn-pred",
   "language": "python",
   "name": "cn-pred"
  },
  "language_info": {
   "codemirror_mode": {
    "name": "ipython",
    "version": 3
   },
   "file_extension": ".py",
   "mimetype": "text/x-python",
   "name": "python",
   "nbconvert_exporter": "python",
   "pygments_lexer": "ipython3",
   "version": "3.7.16"
  }
 },
 "nbformat": 4,
 "nbformat_minor": 5
}
